{
 "cells": [
  {
   "cell_type": "code",
   "execution_count": 1,
   "id": "785bbbd2",
   "metadata": {
    "ExecuteTime": {
     "end_time": "2021-07-21T15:18:15.842113Z",
     "start_time": "2021-07-21T15:18:15.661102Z"
    }
   },
   "outputs": [],
   "source": [
    "import numpy as np\n",
    "import pickle"
   ]
  },
  {
   "cell_type": "code",
   "execution_count": 10,
   "id": "dab4aedd",
   "metadata": {
    "ExecuteTime": {
     "end_time": "2021-07-21T09:22:37.344052Z",
     "start_time": "2021-07-21T09:22:37.086055Z"
    }
   },
   "outputs": [],
   "source": [
    "# files\n",
    "## realdata\n",
    "test_realdata_images_r1 = np.load('rank_output_test_repeat/images_test_realdata_round_1/900_780_matches.npz')\n",
    "test_realdata_images_r2 = np.load('rank_output_test_repeat/images_test_realdata_round_2/900_780_matches.npz')\n",
    "test_realdata_images_r3 = np.load('rank_output_test_repeat/images_test_realdata_round_3/900_780_matches.npz')\n",
    "\n",
    "test_realdata_superpoints_r1 = np.load('rank_output_test_repeat/superpoints_test_realdata_round_1/900_780_matches.npz')\n",
    "test_realdata_superpoints_r2 = np.load('rank_output_test_repeat/superpoints_test_realdata_round_2/900_780_matches.npz')\n",
    "test_realdata_superpoints_r3 = np.load('rank_output_test_repeat/superpoints_test_realdata_round_3/900_780_matches.npz')\n",
    "\n",
    "## realdata_2\n",
    "test_realdata2_images_r1 = np.load('rank_output_test_repeat/images_test_realdata2_round_1/120_240_matches.npz')\n",
    "test_realdata2_images_r2 = np.load('rank_output_test_repeat/images_test_realdata2_round_2/120_240_matches.npz')\n",
    "test_realdata2_images_r3 = np.load('rank_output_test_repeat/images_test_realdata2_round_3/120_240_matches.npz')\n",
    "\n",
    "test_realdata2_superpoints_r1 = np.load('rank_output_test_repeat/superpoints_test_realdata2_round_1/120_240_matches.npz')\n",
    "test_realdata2_superpoints_r2 = np.load('rank_output_test_repeat/superpoints_test_realdata2_round_2/120_240_matches.npz')\n",
    "test_realdata2_superpoints_r3 = np.load('rank_output_test_repeat/superpoints_test_realdata2_round_3/120_240_matches.npz')\n",
    "\n",
    "## new superpoints\n",
    "new_test_realdata_superpoints_r1 = np.load('rank_output_test_repeat/new_superpoints_test_realdata_round_1/900_780_matches.npz')\n",
    "new_test_realdata_superpoints_r2 = np.load('rank_output_test_repeat/new_superpoints_test_realdata_round_2/900_780_matches.npz')\n",
    "new_test_realdata_superpoints_r3 = np.load('rank_output_test_repeat/new_superpoints_test_realdata_round_3/900_780_matches.npz')\n",
    "\n",
    "new_test_realdata2_superpoints_r1 = np.load('rank_output_test_repeat/new_superpoints_test_realdata2_round_1/120_240_matches.npz')\n",
    "new_test_realdata2_superpoints_r2 = np.load('rank_output_test_repeat/new_superpoints_test_realdata2_round_2/120_240_matches.npz')\n",
    "new_test_realdata2_superpoints_r3 = np.load('rank_output_test_repeat/new_superpoints_test_realdata2_round_3/120_240_matches.npz')"
   ]
  },
  {
   "cell_type": "markdown",
   "id": "6067f859",
   "metadata": {},
   "source": [
    "# Compare keypoints"
   ]
  },
  {
   "cell_type": "code",
   "execution_count": 11,
   "id": "1484415d",
   "metadata": {
    "ExecuteTime": {
     "end_time": "2021-07-21T09:22:38.274329Z",
     "start_time": "2021-07-21T09:22:37.346055Z"
    }
   },
   "outputs": [],
   "source": [
    "with open('saved_superpoints/pickle/test_realdata/900.pickle', 'rb') as file:\n",
    "    test_superpoints_kp = pickle.load(file)"
   ]
  },
  {
   "cell_type": "code",
   "execution_count": 12,
   "id": "aa10d5e6",
   "metadata": {
    "ExecuteTime": {
     "end_time": "2021-07-21T09:22:38.304296Z",
     "start_time": "2021-07-21T09:22:38.277314Z"
    }
   },
   "outputs": [],
   "source": [
    "with open('saved_superpoints/pickle/test_realdata_new_code/900.pickle', 'rb') as file:\n",
    "    test_superpoints_new_code_kp = pickle.load(file)"
   ]
  },
  {
   "cell_type": "code",
   "execution_count": 13,
   "id": "b939e46b",
   "metadata": {
    "ExecuteTime": {
     "end_time": "2021-07-21T09:22:38.320295Z",
     "start_time": "2021-07-21T09:22:38.306296Z"
    }
   },
   "outputs": [
    {
     "data": {
      "text/plain": [
       "torch.Size([480, 2])"
      ]
     },
     "execution_count": 13,
     "metadata": {},
     "output_type": "execute_result"
    }
   ],
   "source": [
    "test_superpoints_kp['keypoints'][0].shape"
   ]
  },
  {
   "cell_type": "code",
   "execution_count": 14,
   "id": "2a1f0e51",
   "metadata": {
    "ExecuteTime": {
     "end_time": "2021-07-21T09:22:38.336297Z",
     "start_time": "2021-07-21T09:22:38.322295Z"
    }
   },
   "outputs": [
    {
     "data": {
      "text/plain": [
       "(480, 2)"
      ]
     },
     "execution_count": 14,
     "metadata": {},
     "output_type": "execute_result"
    }
   ],
   "source": [
    "test_realdata_superpoints_r1['keypoints0'].shape"
   ]
  },
  {
   "cell_type": "code",
   "execution_count": 15,
   "id": "7ece8ca1",
   "metadata": {
    "ExecuteTime": {
     "end_time": "2021-07-21T09:22:40.510294Z",
     "start_time": "2021-07-21T09:22:38.337298Z"
    }
   },
   "outputs": [
    {
     "data": {
      "text/plain": [
       "tensor([[113.,   8.],\n",
       "        [128.,   8.],\n",
       "        [208.,   8.],\n",
       "        [ 85.,   9.],\n",
       "        [188.,   9.],\n",
       "        [ 93.,  10.],\n",
       "        [138.,  10.],\n",
       "        [147.,  10.],\n",
       "        [160.,  10.],\n",
       "        [168.,  10.],\n",
       "        [178.,  10.],\n",
       "        [193.,  10.],\n",
       "        [237.,  10.],\n",
       "        [294.,  10.],\n",
       "        [217.,  11.],\n",
       "        [273.,  11.],\n",
       "        [ 73.,  14.],\n",
       "        [120.,  14.],\n",
       "        [ 94.,  15.],\n",
       "        [256.,  15.],\n",
       "        [ 63.,  16.],\n",
       "        [303.,  16.],\n",
       "        [191.,  17.],\n",
       "        [226.,  17.],\n",
       "        [293.,  17.],\n",
       "        [130.,  18.],\n",
       "        [139.,  18.],\n",
       "        [146.,  18.],\n",
       "        [173.,  18.],\n",
       "        [182.,  18.],\n",
       "        [199.,  18.],\n",
       "        [ 29.,  19.],\n",
       "        [ 74.,  19.],\n",
       "        [160.,  19.],\n",
       "        [237.,  19.],\n",
       "        [ 64.,  21.],\n",
       "        [ 94.,  21.],\n",
       "        [293.,  22.],\n",
       "        [139.,  23.],\n",
       "        [208.,  23.],\n",
       "        [160.,  25.],\n",
       "        [217.,  25.],\n",
       "        [228.,  25.],\n",
       "        [ 94.,  26.],\n",
       "        [121.,  26.],\n",
       "        [168.,  26.],\n",
       "        [188.,  26.],\n",
       "        [273.,  26.],\n",
       "        [ 52.,  27.],\n",
       "        [177.,  27.],\n",
       "        [255.,  27.],\n",
       "        [293.,  27.],\n",
       "        [131.,  28.],\n",
       "        [ 30.,  29.],\n",
       "        [245.,  29.],\n",
       "        [102.,  30.],\n",
       "        [141.,  30.],\n",
       "        [160.,  30.],\n",
       "        [227.,  30.],\n",
       "        [152.,  31.],\n",
       "        [208.,  31.],\n",
       "        [177.,  32.],\n",
       "        [236.,  32.],\n",
       "        [122.,  35.],\n",
       "        [160.,  35.],\n",
       "        [199.,  35.],\n",
       "        [293.,  35.],\n",
       "        [130.,  36.],\n",
       "        [207.,  36.],\n",
       "        [265.,  36.],\n",
       "        [ 85.,  37.],\n",
       "        [171.,  37.],\n",
       "        [255.,  37.],\n",
       "        [279.,  37.],\n",
       "        [ 65.,  38.],\n",
       "        [ 75.,  38.],\n",
       "        [ 94.,  38.],\n",
       "        [181.,  38.],\n",
       "        [149.,  39.],\n",
       "        [ 13.,  40.],\n",
       "        [ 19.,  40.],\n",
       "        [122.,  40.],\n",
       "        [135.,  40.],\n",
       "        [160.,  41.],\n",
       "        [255.,  42.],\n",
       "        [278.,  42.],\n",
       "        [293.,  42.],\n",
       "        [217.,  43.],\n",
       "        [246.,  43.],\n",
       "        [264.,  43.],\n",
       "        [225.,  44.],\n",
       "        [236.,  44.],\n",
       "        [308.,  44.],\n",
       "        [130.,  45.],\n",
       "        [187.,  45.],\n",
       "        [207.,  45.],\n",
       "        [ 53.,  46.],\n",
       "        [ 65.,  46.],\n",
       "        [175.,  46.],\n",
       "        [ 95.,  47.],\n",
       "        [154.,  47.],\n",
       "        [255.,  47.],\n",
       "        [278.,  47.],\n",
       "        [292.,  47.],\n",
       "        [147.,  49.],\n",
       "        [133.,  50.],\n",
       "        [200.,  50.],\n",
       "        [122.,  51.],\n",
       "        [164.,  52.],\n",
       "        [186.,  52.],\n",
       "        [269.,  52.],\n",
       "        [159.,  53.],\n",
       "        [236.,  54.],\n",
       "        [133.,  55.],\n",
       "        [175.,  55.],\n",
       "        [122.,  56.],\n",
       "        [246.,  56.],\n",
       "        [281.,  56.],\n",
       "        [198.,  57.],\n",
       "        [146.,  59.],\n",
       "        [236.,  59.],\n",
       "        [292.,  59.],\n",
       "        [ 87.,  60.],\n",
       "        [154.,  60.],\n",
       "        [175.,  60.],\n",
       "        [255.,  60.],\n",
       "        [268.,  60.],\n",
       "        [111.,  61.],\n",
       "        [159.,  61.],\n",
       "        [246.,  61.],\n",
       "        [281.,  61.],\n",
       "        [ 76.,  63.],\n",
       "        [185.,  63.],\n",
       "        [209.,  63.],\n",
       "        [ 66.,  64.],\n",
       "        [ 95.,  64.],\n",
       "        [122.,  64.],\n",
       "        [174.,  65.],\n",
       "        [274.,  65.],\n",
       "        [ 53.,  66.],\n",
       "        [116.,  66.],\n",
       "        [160.,  66.],\n",
       "        [246.,  66.],\n",
       "        [282.,  66.],\n",
       "        [182.,  68.],\n",
       "        [ 96.,  69.],\n",
       "        [227.,  70.],\n",
       "        [236.,  70.],\n",
       "        [273.,  70.],\n",
       "        [ 34.,  71.],\n",
       "        [155.,  71.],\n",
       "        [ 86.,  72.],\n",
       "        [137.,  72.],\n",
       "        [143.,  72.],\n",
       "        [255.,  72.],\n",
       "        [148.,  73.],\n",
       "        [216.,  73.],\n",
       "        [267.,  73.],\n",
       "        [ 96.,  74.],\n",
       "        [123.,  74.],\n",
       "        [278.,  74.],\n",
       "        [160.,  75.],\n",
       "        [292.,  75.],\n",
       "        [181.,  76.],\n",
       "        [194.,  77.],\n",
       "        [ 87.,  79.],\n",
       "        [134.,  80.],\n",
       "        [300.,  80.],\n",
       "        [122.,  81.],\n",
       "        [183.,  82.],\n",
       "        [215.,  82.],\n",
       "        [256.,  82.],\n",
       "        [261.,  82.],\n",
       "        [308.,  82.],\n",
       "        [224.,  83.],\n",
       "        [231.,  83.],\n",
       "        [236.,  83.],\n",
       "        [245.,  83.],\n",
       "        [268.,  83.],\n",
       "        [276.,  83.],\n",
       "        [140.,  84.],\n",
       "        [154.,  84.],\n",
       "        [148.,  85.],\n",
       "        [167.,  85.],\n",
       "        [174.,  85.],\n",
       "        [ 35.,  86.],\n",
       "        [201.,  86.],\n",
       "        [  8.,  87.],\n",
       "        [183.,  87.],\n",
       "        [188.,  87.],\n",
       "        [195.,  87.],\n",
       "        [211.,  89.],\n",
       "        [ 96.,  90.],\n",
       "        [161.,  90.],\n",
       "        [206.,  90.],\n",
       "        [246.,  90.],\n",
       "        [ 35.,  91.],\n",
       "        [ 54.,  91.],\n",
       "        [ 87.,  91.],\n",
       "        [124.,  91.],\n",
       "        [134.,  91.],\n",
       "        [254.,  91.],\n",
       "        [282.,  91.],\n",
       "        [ 23.,  92.],\n",
       "        [182.,  92.],\n",
       "        [235.,  92.],\n",
       "        [292.,  92.],\n",
       "        [ 64.,  93.],\n",
       "        [ 69.,  93.],\n",
       "        [103.,  93.],\n",
       "        [143.,  93.],\n",
       "        [225.,  93.],\n",
       "        [298.,  93.],\n",
       "        [303.,  93.],\n",
       "        [ 76.,  94.],\n",
       "        [308.,  94.],\n",
       "        [191.,  95.],\n",
       "        [196.,  96.],\n",
       "        [201.,  96.],\n",
       "        [267.,  96.],\n",
       "        [ 88.,  97.],\n",
       "        [182.,  97.],\n",
       "        [160.,  98.],\n",
       "        [148.,  99.],\n",
       "        [172.,  99.],\n",
       "        [134., 100.],\n",
       "        [139., 100.],\n",
       "        [225., 100.],\n",
       "        [110., 101.],\n",
       "        [235., 101.],\n",
       "        [282., 101.],\n",
       "        [ 36., 102.],\n",
       "        [ 64., 102.],\n",
       "        [124., 102.],\n",
       "        [291., 102.],\n",
       "        [ 89., 104.],\n",
       "        [167., 104.],\n",
       "        [299., 104.],\n",
       "        [217., 105.],\n",
       "        [225., 105.],\n",
       "        [262., 105.],\n",
       "        [304., 105.],\n",
       "        [ 55., 106.],\n",
       "        [110., 106.],\n",
       "        [180., 106.],\n",
       "        [309., 106.],\n",
       "        [  8., 107.],\n",
       "        [ 37., 107.],\n",
       "        [ 70., 107.],\n",
       "        [ 79., 107.],\n",
       "        [ 98., 107.],\n",
       "        [152., 107.],\n",
       "        [134., 108.],\n",
       "        [190., 108.],\n",
       "        [254., 108.],\n",
       "        [197., 109.],\n",
       "        [124., 110.],\n",
       "        [235., 110.],\n",
       "        [284., 111.],\n",
       "        [ 37., 112.],\n",
       "        [ 55., 112.],\n",
       "        [ 97., 112.],\n",
       "        [289., 112.],\n",
       "        [  9., 113.],\n",
       "        [181., 114.],\n",
       "        [225., 114.],\n",
       "        [244., 114.],\n",
       "        [294., 114.],\n",
       "        [124., 115.],\n",
       "        [133., 115.],\n",
       "        [161., 115.],\n",
       "        [172., 115.],\n",
       "        [214., 115.],\n",
       "        [235., 115.],\n",
       "        [ 62., 116.],\n",
       "        [ 70., 116.],\n",
       "        [ 89., 116.],\n",
       "        [145., 116.],\n",
       "        [299., 116.],\n",
       "        [ 37., 117.],\n",
       "        [ 80., 117.],\n",
       "        [ 98., 117.],\n",
       "        [304., 117.],\n",
       "        [ 56., 118.],\n",
       "        [ 19., 119.],\n",
       "        [225., 120.],\n",
       "        [261., 120.],\n",
       "        [147., 121.],\n",
       "        [215., 121.],\n",
       "        [243., 121.],\n",
       "        [235., 122.],\n",
       "        [290., 122.],\n",
       "        [124., 123.],\n",
       "        [172., 123.],\n",
       "        [182., 124.],\n",
       "        [ 98., 125.],\n",
       "        [225., 125.],\n",
       "        [267., 125.],\n",
       "        [161., 126.],\n",
       "        [215., 126.],\n",
       "        [134., 127.],\n",
       "        [147., 127.],\n",
       "        [235., 127.],\n",
       "        [125., 128.],\n",
       "        [261., 128.],\n",
       "        [ 71., 129.],\n",
       "        [247., 129.],\n",
       "        [ 80., 130.],\n",
       "        [172., 130.],\n",
       "        [308., 130.],\n",
       "        [ 39., 131.],\n",
       "        [ 98., 131.],\n",
       "        [134., 133.],\n",
       "        [161., 133.],\n",
       "        [224., 133.],\n",
       "        [253., 133.],\n",
       "        [262., 133.],\n",
       "        [ 71., 134.],\n",
       "        [181., 134.],\n",
       "        [212., 134.],\n",
       "        [267., 134.],\n",
       "        [290., 134.],\n",
       "        [ 11., 135.],\n",
       "        [125., 135.],\n",
       "        [172., 135.],\n",
       "        [275., 135.],\n",
       "        [296., 135.],\n",
       "        [133., 138.],\n",
       "        [161., 138.],\n",
       "        [254., 138.],\n",
       "        [153., 139.],\n",
       "        [244., 139.],\n",
       "        [ 90., 141.],\n",
       "        [ 97., 141.],\n",
       "        [146., 141.],\n",
       "        [308., 141.],\n",
       "        [224., 142.],\n",
       "        [235., 142.],\n",
       "        [265., 142.],\n",
       "        [ 71., 143.],\n",
       "        [253., 143.],\n",
       "        [ 56., 144.],\n",
       "        [133., 144.],\n",
       "        [202., 144.],\n",
       "        [211., 144.],\n",
       "        [289., 144.],\n",
       "        [ 81., 145.],\n",
       "        [275., 145.],\n",
       "        [125., 146.],\n",
       "        [172., 146.],\n",
       "        [ 12., 147.],\n",
       "        [224., 147.],\n",
       "        [266., 147.],\n",
       "        [183., 148.],\n",
       "        [162., 149.],\n",
       "        [254., 149.],\n",
       "        [244., 150.],\n",
       "        [ 40., 151.],\n",
       "        [235., 151.],\n",
       "        [ 57., 152.],\n",
       "        [224., 152.],\n",
       "        [ 13., 153.],\n",
       "        [116., 153.],\n",
       "        [146., 153.],\n",
       "        [ 71., 154.],\n",
       "        [209., 154.],\n",
       "        [ 81., 155.],\n",
       "        [ 90., 155.],\n",
       "        [ 99., 155.],\n",
       "        [137., 156.],\n",
       "        [289., 156.],\n",
       "        [ 13., 158.],\n",
       "        [126., 158.],\n",
       "        [182., 158.],\n",
       "        [266., 158.],\n",
       "        [277., 158.],\n",
       "        [304., 158.],\n",
       "        [ 41., 159.],\n",
       "        [171., 159.],\n",
       "        [261., 159.],\n",
       "        [272., 159.],\n",
       "        [176., 160.],\n",
       "        [162., 161.],\n",
       "        [255., 163.],\n",
       "        [151., 164.],\n",
       "        [181., 165.],\n",
       "        [235., 165.],\n",
       "        [297., 165.],\n",
       "        [ 89., 166.],\n",
       "        [100., 166.],\n",
       "        [125., 166.],\n",
       "        [278., 166.],\n",
       "        [ 42., 167.],\n",
       "        [120., 167.],\n",
       "        [171., 167.],\n",
       "        [ 58., 168.],\n",
       "        [ 71., 168.],\n",
       "        [ 79., 169.],\n",
       "        [152., 169.],\n",
       "        [200., 171.],\n",
       "        [265., 171.],\n",
       "        [ 43., 172.],\n",
       "        [141., 172.],\n",
       "        [288., 172.],\n",
       "        [ 12., 173.],\n",
       "        [235., 173.],\n",
       "        [252., 173.],\n",
       "        [293., 174.],\n",
       "        [100., 176.],\n",
       "        [162., 176.],\n",
       "        [152., 177.],\n",
       "        [ 69., 178.],\n",
       "        [111., 178.],\n",
       "        [256., 179.],\n",
       "        [ 58., 180.],\n",
       "        [195., 180.],\n",
       "        [274., 180.],\n",
       "        [ 79., 181.],\n",
       "        [ 85., 181.],\n",
       "        [ 90., 181.],\n",
       "        [ 96., 181.],\n",
       "        [235., 181.],\n",
       "        [ 30., 184.],\n",
       "        [176., 184.],\n",
       "        [247., 185.],\n",
       "        [252., 185.],\n",
       "        [293., 185.],\n",
       "        [ 14., 188.],\n",
       "        [141., 188.],\n",
       "        [162., 188.],\n",
       "        [235., 188.],\n",
       "        [ 30., 189.],\n",
       "        [ 98., 189.],\n",
       "        [263., 189.],\n",
       "        [271., 189.],\n",
       "        [310., 189.],\n",
       "        [ 44., 190.],\n",
       "        [ 73., 191.],\n",
       "        [154., 191.],\n",
       "        [ 59., 192.],\n",
       "        [253., 192.],\n",
       "        [194., 193.],\n",
       "        [205., 193.],\n",
       "        [287., 193.],\n",
       "        [292., 193.],\n",
       "        [ 86., 195.],\n",
       "        [234., 195.],\n",
       "        [180., 196.],\n",
       "        [ 15., 197.],\n",
       "        [ 38., 197.],\n",
       "        [162., 199.],\n",
       "        [209., 201.],\n",
       "        [ 14., 202.],\n",
       "        [ 59., 202.],\n",
       "        [263., 202.],\n",
       "        [235., 203.],\n",
       "        [302., 203.],\n",
       "        [293., 204.],\n",
       "        [ 74., 206.],\n",
       "        [183., 206.],\n",
       "        [ 49., 207.],\n",
       "        [233., 208.],\n",
       "        [ 30., 209.],\n",
       "        [161., 210.],\n",
       "        [ 92., 211.],\n",
       "        [214., 212.],\n",
       "        [103., 214.],\n",
       "        [303., 216.],\n",
       "        [ 31., 218.],\n",
       "        [123., 218.],\n",
       "        [ 91., 220.],\n",
       "        [ 73., 221.],\n",
       "        [190., 224.],\n",
       "        [ 60., 225.],\n",
       "        [161., 226.],\n",
       "        [ 79., 227.],\n",
       "        [148., 227.],\n",
       "        [ 14., 228.],\n",
       "        [192., 230.],\n",
       "        [294., 230.]], device='cuda:0')"
      ]
     },
     "execution_count": 15,
     "metadata": {},
     "output_type": "execute_result"
    }
   ],
   "source": [
    "test_superpoints_kp['keypoints'][0]"
   ]
  },
  {
   "cell_type": "code",
   "execution_count": 16,
   "id": "8d64f675",
   "metadata": {
    "ExecuteTime": {
     "end_time": "2021-07-21T09:22:40.526293Z",
     "start_time": "2021-07-21T09:22:40.511295Z"
    }
   },
   "outputs": [
    {
     "data": {
      "text/plain": [
       "0"
      ]
     },
     "execution_count": 16,
     "metadata": {},
     "output_type": "execute_result"
    }
   ],
   "source": [
    "np.sum(test_superpoints_kp['keypoints'][0].cpu().numpy() != test_realdata_superpoints_r1['keypoints0'])"
   ]
  },
  {
   "cell_type": "code",
   "execution_count": 17,
   "id": "aaf202f3",
   "metadata": {
    "ExecuteTime": {
     "end_time": "2021-07-21T09:22:40.557293Z",
     "start_time": "2021-07-21T09:22:40.531296Z"
    }
   },
   "outputs": [
    {
     "data": {
      "text/plain": [
       "['keypoints0', 'keypoints1', 'matches', 'match_confidence']"
      ]
     },
     "execution_count": 17,
     "metadata": {},
     "output_type": "execute_result"
    }
   ],
   "source": [
    "test_realdata_superpoints_r1.files"
   ]
  },
  {
   "cell_type": "code",
   "execution_count": 18,
   "id": "42c24cdd",
   "metadata": {
    "ExecuteTime": {
     "end_time": "2021-07-21T09:22:40.572295Z",
     "start_time": "2021-07-21T09:22:40.559295Z"
    }
   },
   "outputs": [
    {
     "data": {
      "text/plain": [
       "(480, 2)"
      ]
     },
     "execution_count": 18,
     "metadata": {},
     "output_type": "execute_result"
    }
   ],
   "source": [
    "test_realdata_superpoints_r1['keypoints0'].shape"
   ]
  },
  {
   "cell_type": "code",
   "execution_count": 19,
   "id": "b2f81127",
   "metadata": {
    "ExecuteTime": {
     "end_time": "2021-07-21T09:22:40.587300Z",
     "start_time": "2021-07-21T09:22:40.574299Z"
    }
   },
   "outputs": [
    {
     "data": {
      "text/plain": [
       "(473, 2)"
      ]
     },
     "execution_count": 19,
     "metadata": {},
     "output_type": "execute_result"
    }
   ],
   "source": [
    "test_realdata_images_r1['keypoints0'].shape"
   ]
  },
  {
   "cell_type": "code",
   "execution_count": 20,
   "id": "a44ae98c",
   "metadata": {
    "ExecuteTime": {
     "end_time": "2021-07-21T09:22:40.603293Z",
     "start_time": "2021-07-21T09:22:40.590298Z"
    }
   },
   "outputs": [
    {
     "data": {
      "text/plain": [
       "671"
      ]
     },
     "execution_count": 20,
     "metadata": {},
     "output_type": "execute_result"
    }
   ],
   "source": [
    "np.sum(test_realdata_superpoints_r1['keypoints0'][:-7,:] != test_realdata_images_r1['keypoints0'])"
   ]
  },
  {
   "cell_type": "markdown",
   "id": "12812565",
   "metadata": {},
   "source": [
    "## New code"
   ]
  },
  {
   "cell_type": "code",
   "execution_count": 21,
   "id": "9bf15bd9",
   "metadata": {
    "ExecuteTime": {
     "end_time": "2021-07-21T09:22:40.618295Z",
     "start_time": "2021-07-21T09:22:40.605297Z"
    }
   },
   "outputs": [
    {
     "data": {
      "text/plain": [
       "(473, 2)"
      ]
     },
     "execution_count": 21,
     "metadata": {},
     "output_type": "execute_result"
    }
   ],
   "source": [
    "test_superpoints_new_code_kp['keypoints'][0].cpu().numpy().shape"
   ]
  },
  {
   "cell_type": "code",
   "execution_count": 22,
   "id": "27b0a48e",
   "metadata": {
    "ExecuteTime": {
     "end_time": "2021-07-21T09:22:40.633293Z",
     "start_time": "2021-07-21T09:22:40.619295Z"
    }
   },
   "outputs": [
    {
     "data": {
      "text/plain": [
       "0"
      ]
     },
     "execution_count": 22,
     "metadata": {},
     "output_type": "execute_result"
    }
   ],
   "source": [
    "np.sum(test_superpoints_new_code_kp['keypoints'][0].cpu().numpy() != test_realdata_images_r1['keypoints0'])"
   ]
  },
  {
   "cell_type": "markdown",
   "id": "ae3f6653",
   "metadata": {},
   "source": [
    "# Compare matching from loaded files above"
   ]
  },
  {
   "cell_type": "code",
   "execution_count": 23,
   "id": "78864f1f",
   "metadata": {
    "ExecuteTime": {
     "end_time": "2021-07-21T09:22:40.648296Z",
     "start_time": "2021-07-21T09:22:40.634296Z"
    }
   },
   "outputs": [
    {
     "data": {
      "text/plain": [
       "['keypoints0', 'keypoints1', 'matches', 'match_confidence']"
      ]
     },
     "execution_count": 23,
     "metadata": {},
     "output_type": "execute_result"
    }
   ],
   "source": [
    "test_realdata_images_r1.files"
   ]
  },
  {
   "cell_type": "code",
   "execution_count": 24,
   "id": "42e044f9",
   "metadata": {
    "ExecuteTime": {
     "end_time": "2021-07-21T09:22:40.664297Z",
     "start_time": "2021-07-21T09:22:40.650296Z"
    },
    "scrolled": true
   },
   "outputs": [
    {
     "data": {
      "text/plain": [
       "array([  4,  -1,  -1,   6,  -1,  -1,  -1,  -1,  -1,  -1,  -1,  -1,  -1,\n",
       "        -1,  -1,  -1,   8,  12,  11,  -1,  -1,  -1,  -1,  -1,  -1,  13,\n",
       "        -1,  -1,  -1,  -1,  -1,  27,  -1,  -1,  -1,  -1,  -1,  -1,  -1,\n",
       "        -1,  -1,  -1,  -1,  -1,  25,  24,  -1,  -1,  -1,  41,  -1,  -1,\n",
       "        -1,  -1,  -1,  -1,  -1,  -1,  -1,  -1,  -1,  -1,  -1,  -1,  -1,\n",
       "        -1,  -1,  -1,  -1,  -1,  -1,  26,  -1,  -1,  -1,  -1,  38,  60,\n",
       "        45,  -1,  -1,  -1,  -1,  -1,  -1,  -1,  -1,  -1,  -1,  -1,  -1,\n",
       "        -1,  -1,  44,  -1,  -1,  59,  54,  -1,  62,  -1,  -1,  -1,  -1,\n",
       "        -1,  -1,  -1,  -1,  -1,  -1,  -1,  -1,  57,  65,  -1,  -1,  -1,\n",
       "        -1,  -1,  -1,  -1,  68,  -1,  -1,  -1,  -1,  -1,  -1,  -1,  -1,\n",
       "        74,  -1,  -1,  78,  72,  75,  -1,  -1,  -1,  -1,  -1,  -1,  -1,\n",
       "        80,  -1,  -1,  -1,  -1,  -1,  -1,  -1,  -1,  -1,  -1,  -1,  -1,\n",
       "        89,  92,  -1,  -1,  -1,  -1,  -1,  -1, 106, 103,  -1, 102,  -1,\n",
       "        -1,  -1,  -1,  -1,  -1,  -1,  -1,  -1,  -1,  -1,  -1,  -1,  -1,\n",
       "        -1,  -1,  -1,  -1,  -1,  -1,  -1,  -1, 126,  -1,  -1,  -1,  -1,\n",
       "        -1, 109,  -1,  -1, 131, 135,  -1,  -1,  -1,  -1,  -1,  -1,  -1,\n",
       "        -1, 125,  -1, 129,  -1,  -1, 134,  -1,  -1,  -1,  -1,  -1, 128,\n",
       "        -1,  -1,  -1,  -1,  -1,  -1,  -1,  -1,  -1,  -1,  -1,  -1,  -1,\n",
       "        -1, 151,  -1,  -1,  -1,  -1,  -1, 152,  -1,  -1,  -1, 122, 150,\n",
       "       157, 159,  -1, 153,  -1,  -1,  -1, 162,  -1,  -1, 144,  -1, 142,\n",
       "        -1,  -1,  -1,  -1,  -1, 188, 189,  -1,  -1,  -1,  -1, 156, 187,\n",
       "        -1,  -1,  -1,  -1, 183, 184,  -1, 172,  -1,  -1,  -1,  -1,  -1,\n",
       "        -1,  -1,  -1,  -1,  -1,  -1,  -1,  -1,  -1,  -1,  -1, 219,  -1,\n",
       "        -1, 218,  -1, 212, 213,  -1,  -1,  -1, 161, 220, 250,  -1,  -1,\n",
       "        -1,  -1,  -1,  -1,  -1,  -1, 165, 238,  -1,  -1,  -1, 269,  -1,\n",
       "        -1,  -1,  -1, 249, 268,  -1,  -1,  -1,  -1,  -1,  -1, 211, 298,\n",
       "        -1,  -1,  -1, 254, 282,  -1,  -1, 209,  -1,  -1,  -1,  -1,  -1,\n",
       "        -1,  -1,  -1, 224,  -1, 307, 324,  -1, 267,  -1, 285, 291, 296,\n",
       "       323,  -1,  -1, 321,  -1,  -1,  -1,  -1, 242,  -1,  -1,  -1,  -1,\n",
       "        -1,  -1,  -1,  -1,  -1,  -1, 320, 343,  -1,  -1, 333,  -1, 261,\n",
       "       281, 319,  -1,  -1,  -1, 266,  -1, 247,  -1,  -1,  -1,  -1,  -1,\n",
       "        -1, 318,  -1,  -1, 302,  -1,  -1, 346,  -1, 354, 356,  -1, 290,\n",
       "        -1,  -1,  -1,  -1, 308, 398,  -1,  -1,  -1, 309, 370,  -1,  -1,\n",
       "        -1, 364,  -1, 313,  -1,  -1,  -1,  -1,  -1, 373,  -1,  -1,  -1,\n",
       "       316,  -1,  -1, 342,  -1, 360,  -1,  -1,  -1, 382,  -1,  -1,  -1,\n",
       "        -1, 420, 396,  -1, 406,  -1,  -1, 431,  -1, 402,  -1, 388,  -1,\n",
       "       411, 452, 393,  -1,  -1], dtype=int64)"
      ]
     },
     "execution_count": 24,
     "metadata": {},
     "output_type": "execute_result"
    }
   ],
   "source": [
    "test_realdata_images_r1['matches']"
   ]
  },
  {
   "cell_type": "code",
   "execution_count": 25,
   "id": "4b4ec9b2",
   "metadata": {
    "ExecuteTime": {
     "end_time": "2021-07-21T09:22:40.679297Z",
     "start_time": "2021-07-21T09:22:40.666296Z"
    }
   },
   "outputs": [
    {
     "name": "stdout",
     "output_type": "stream",
     "text": [
      "Real data 1 from Images\n",
      "r1 vs r2 difference: 0\n",
      "r1 vs r3 difference: 0\n",
      "r2 vs r3 difference: 0\n"
     ]
    }
   ],
   "source": [
    "print('Real data 1 from Images')\n",
    "print('r1 vs r2 difference:',np.sum(test_realdata_images_r1['matches'] != test_realdata_images_r2['matches']))\n",
    "print('r1 vs r3 difference:',np.sum(test_realdata_images_r1['matches'] != test_realdata_images_r3['matches']))\n",
    "print('r2 vs r3 difference:',np.sum(test_realdata_images_r2['matches'] != test_realdata_images_r3['matches']))"
   ]
  },
  {
   "cell_type": "code",
   "execution_count": 26,
   "id": "395a2318",
   "metadata": {
    "ExecuteTime": {
     "end_time": "2021-07-21T09:22:40.711295Z",
     "start_time": "2021-07-21T09:22:40.683297Z"
    }
   },
   "outputs": [
    {
     "name": "stdout",
     "output_type": "stream",
     "text": [
      "Real data 1 from SuperPoints\n",
      "r1 vs r2 difference: 0\n",
      "r1 vs r3 difference: 0\n",
      "r2 vs r3 difference: 0\n"
     ]
    }
   ],
   "source": [
    "print('Real data 1 from SuperPoints')\n",
    "print('r1 vs r2 difference:',np.sum(test_realdata_superpoints_r1['matches'] != test_realdata_superpoints_r2['matches']))\n",
    "print('r1 vs r3 difference:',np.sum(test_realdata_superpoints_r1['matches'] != test_realdata_superpoints_r3['matches']))\n",
    "print('r2 vs r3 difference:',np.sum(test_realdata_superpoints_r2['matches'] != test_realdata_superpoints_r3['matches']))"
   ]
  },
  {
   "cell_type": "code",
   "execution_count": 27,
   "id": "e5880d70",
   "metadata": {
    "ExecuteTime": {
     "end_time": "2021-07-21T09:22:40.727293Z",
     "start_time": "2021-07-21T09:22:40.714298Z"
    }
   },
   "outputs": [
    {
     "name": "stdout",
     "output_type": "stream",
     "text": [
      "Real data 2 from Images\n",
      "r1 vs r2 difference: 0\n",
      "r1 vs r3 difference: 0\n",
      "r2 vs r3 difference: 0\n"
     ]
    }
   ],
   "source": [
    "print('Real data 2 from Images')\n",
    "print('r1 vs r2 difference:',np.sum(test_realdata2_images_r1['matches'] != test_realdata2_images_r2['matches']))\n",
    "print('r1 vs r3 difference:',np.sum(test_realdata2_images_r1['matches'] != test_realdata2_images_r3['matches']))\n",
    "print('r2 vs r3 difference:',np.sum(test_realdata2_images_r2['matches'] != test_realdata2_images_r3['matches']))"
   ]
  },
  {
   "cell_type": "code",
   "execution_count": 28,
   "id": "4d7cb4d1",
   "metadata": {
    "ExecuteTime": {
     "end_time": "2021-07-21T09:22:40.742296Z",
     "start_time": "2021-07-21T09:22:40.729296Z"
    }
   },
   "outputs": [
    {
     "name": "stdout",
     "output_type": "stream",
     "text": [
      "Real data 2 from SuperPoints\n",
      "r1 vs r2 difference: 0\n",
      "r1 vs r3 difference: 0\n",
      "r2 vs r3 difference: 0\n"
     ]
    }
   ],
   "source": [
    "print('Real data 2 from SuperPoints')\n",
    "print('r1 vs r2 difference:',np.sum(test_realdata2_superpoints_r1['matches'] != test_realdata2_superpoints_r2['matches']))\n",
    "print('r1 vs r3 difference:',np.sum(test_realdata2_superpoints_r1['matches'] != test_realdata2_superpoints_r3['matches']))\n",
    "print('r2 vs r3 difference:',np.sum(test_realdata2_superpoints_r2['matches'] != test_realdata2_superpoints_r3['matches']))"
   ]
  },
  {
   "cell_type": "code",
   "execution_count": 29,
   "id": "34ef3dee",
   "metadata": {
    "ExecuteTime": {
     "end_time": "2021-07-21T09:22:40.757296Z",
     "start_time": "2021-07-21T09:22:40.744298Z"
    }
   },
   "outputs": [
    {
     "name": "stdout",
     "output_type": "stream",
     "text": [
      "Real data 1 Images vs SuperPoints\n",
      "R1: Images vs SuperPoints difference: 1\n",
      "R2: Images vs SuperPoints difference: 1\n",
      "R3: Images vs SuperPoints difference: 1\n"
     ]
    },
    {
     "name": "stderr",
     "output_type": "stream",
     "text": [
      "<ipython-input-29-b04f1b4833fe>:2: DeprecationWarning: elementwise comparison failed; this will raise an error in the future.\n",
      "  print('R1: Images vs SuperPoints difference:',np.sum(test_realdata_images_r1['matches'] != test_realdata_superpoints_r1['matches']))\n",
      "<ipython-input-29-b04f1b4833fe>:3: DeprecationWarning: elementwise comparison failed; this will raise an error in the future.\n",
      "  print('R2: Images vs SuperPoints difference:',np.sum(test_realdata_images_r2['matches'] != test_realdata_superpoints_r2['matches']))\n",
      "<ipython-input-29-b04f1b4833fe>:4: DeprecationWarning: elementwise comparison failed; this will raise an error in the future.\n",
      "  print('R3: Images vs SuperPoints difference:',np.sum(test_realdata_images_r3['matches'] != test_realdata_superpoints_r3['matches']))\n"
     ]
    }
   ],
   "source": [
    "print('Real data 1 Images vs SuperPoints')\n",
    "print('R1: Images vs SuperPoints difference:',np.sum(test_realdata_images_r1['matches'] != test_realdata_superpoints_r1['matches']))\n",
    "print('R2: Images vs SuperPoints difference:',np.sum(test_realdata_images_r2['matches'] != test_realdata_superpoints_r2['matches']))\n",
    "print('R3: Images vs SuperPoints difference:',np.sum(test_realdata_images_r3['matches'] != test_realdata_superpoints_r3['matches']))"
   ]
  },
  {
   "cell_type": "code",
   "execution_count": 30,
   "id": "69a01bec",
   "metadata": {
    "ExecuteTime": {
     "end_time": "2021-07-21T09:22:40.773295Z",
     "start_time": "2021-07-21T09:22:40.759296Z"
    }
   },
   "outputs": [
    {
     "data": {
      "text/plain": [
       "(473,)"
      ]
     },
     "execution_count": 30,
     "metadata": {},
     "output_type": "execute_result"
    }
   ],
   "source": [
    "test_realdata_images_r1['matches'].shape"
   ]
  },
  {
   "cell_type": "code",
   "execution_count": 31,
   "id": "90cc89d7",
   "metadata": {
    "ExecuteTime": {
     "end_time": "2021-07-21T09:22:40.788296Z",
     "start_time": "2021-07-21T09:22:40.775298Z"
    }
   },
   "outputs": [
    {
     "data": {
      "text/plain": [
       "(480,)"
      ]
     },
     "execution_count": 31,
     "metadata": {},
     "output_type": "execute_result"
    }
   ],
   "source": [
    "test_realdata_superpoints_r1['matches'].shape"
   ]
  },
  {
   "cell_type": "code",
   "execution_count": 32,
   "id": "0a3f5479",
   "metadata": {
    "ExecuteTime": {
     "end_time": "2021-07-21T09:22:40.819294Z",
     "start_time": "2021-07-21T09:22:40.791296Z"
    }
   },
   "outputs": [
    {
     "name": "stdout",
     "output_type": "stream",
     "text": [
      "Real data 1 Images vs SuperPoints\n",
      "R1: Images vs SuperPoints difference: 188\n",
      "R2: Images vs SuperPoints difference: 188\n",
      "R3: Images vs SuperPoints difference: 188\n"
     ]
    }
   ],
   "source": [
    "print('Real data 1 Images vs SuperPoints')\n",
    "print('R1: Images vs SuperPoints difference:',np.sum(test_realdata_images_r1['matches'] != test_realdata_superpoints_r1['matches'][:-7]))\n",
    "print('R2: Images vs SuperPoints difference:',np.sum(test_realdata_images_r2['matches'] != test_realdata_superpoints_r2['matches'][:-7]))\n",
    "print('R3: Images vs SuperPoints difference:',np.sum(test_realdata_images_r3['matches'] != test_realdata_superpoints_r3['matches'][:-7]))"
   ]
  },
  {
   "cell_type": "code",
   "execution_count": 33,
   "id": "5eaf26ca",
   "metadata": {
    "ExecuteTime": {
     "end_time": "2021-07-21T09:22:40.834296Z",
     "start_time": "2021-07-21T09:22:40.822298Z"
    }
   },
   "outputs": [
    {
     "data": {
      "text/plain": [
       "(303,)"
      ]
     },
     "execution_count": 33,
     "metadata": {},
     "output_type": "execute_result"
    }
   ],
   "source": [
    "test_realdata2_images_r1['matches'].shape"
   ]
  },
  {
   "cell_type": "code",
   "execution_count": 34,
   "id": "637c4012",
   "metadata": {
    "ExecuteTime": {
     "end_time": "2021-07-21T09:22:40.849296Z",
     "start_time": "2021-07-21T09:22:40.836296Z"
    }
   },
   "outputs": [
    {
     "data": {
      "text/plain": [
       "(299,)"
      ]
     },
     "execution_count": 34,
     "metadata": {},
     "output_type": "execute_result"
    }
   ],
   "source": [
    "test_realdata2_superpoints_r1['matches'].shape"
   ]
  },
  {
   "cell_type": "code",
   "execution_count": 35,
   "id": "a07c1a30",
   "metadata": {
    "ExecuteTime": {
     "end_time": "2021-07-21T09:22:40.865295Z",
     "start_time": "2021-07-21T09:22:40.853294Z"
    }
   },
   "outputs": [
    {
     "name": "stdout",
     "output_type": "stream",
     "text": [
      "Real data 2 Images vs SuperPoints\n",
      "R1: Images vs SuperPoints difference: 246\n",
      "R2: Images vs SuperPoints difference: 246\n",
      "R3: Images vs SuperPoints difference: 246\n"
     ]
    }
   ],
   "source": [
    "print('Real data 2 Images vs SuperPoints')\n",
    "print('R1: Images vs SuperPoints difference:',np.sum(test_realdata2_images_r1['matches'][:-4] != test_realdata2_superpoints_r1['matches']))\n",
    "print('R2: Images vs SuperPoints difference:',np.sum(test_realdata2_images_r2['matches'][:-4] != test_realdata2_superpoints_r2['matches']))\n",
    "print('R3: Images vs SuperPoints difference:',np.sum(test_realdata2_images_r3['matches'][:-4] != test_realdata2_superpoints_r3['matches']))"
   ]
  },
  {
   "cell_type": "code",
   "execution_count": 36,
   "id": "813f76c2",
   "metadata": {
    "ExecuteTime": {
     "end_time": "2021-07-21T09:22:40.880296Z",
     "start_time": "2021-07-21T09:22:40.868297Z"
    }
   },
   "outputs": [
    {
     "name": "stdout",
     "output_type": "stream",
     "text": [
      "Real data 1 new_SuperPoints vs SuperPoints\n",
      "R1: new_SuperPoints vs SuperPoints difference: 0\n",
      "R2: new_SuperPoints vs SuperPoints difference: 0\n",
      "R3: new_SuperPoints vs SuperPoints difference: 0\n"
     ]
    }
   ],
   "source": [
    "print('Real data 1 new_SuperPoints vs SuperPoints')\n",
    "print('R1: new_SuperPoints vs SuperPoints difference:',np.sum(new_test_realdata_superpoints_r1['matches'] != test_realdata_superpoints_r1['matches']))\n",
    "print('R2: new_SuperPoints vs SuperPoints difference:',np.sum(new_test_realdata_superpoints_r2['matches'] != test_realdata_superpoints_r2['matches']))\n",
    "print('R3: new_SuperPoints vs SuperPoints difference:',np.sum(new_test_realdata_superpoints_r3['matches'] != test_realdata_superpoints_r3['matches']))"
   ]
  },
  {
   "cell_type": "code",
   "execution_count": 37,
   "id": "6e1cdfd7",
   "metadata": {
    "ExecuteTime": {
     "end_time": "2021-07-21T09:22:40.911295Z",
     "start_time": "2021-07-21T09:22:40.885296Z"
    }
   },
   "outputs": [
    {
     "name": "stdout",
     "output_type": "stream",
     "text": [
      "Real data 2 new_SuperPoints vs SuperPoints\n",
      "R1: new_SuperPoints vs SuperPoints difference: 0\n",
      "R2: new_SuperPoints vs SuperPoints difference: 0\n",
      "R3: new_SuperPoints vs SuperPoints difference: 0\n"
     ]
    }
   ],
   "source": [
    "print('Real data 2 new_SuperPoints vs SuperPoints')\n",
    "print('R1: new_SuperPoints vs SuperPoints difference:',np.sum(new_test_realdata2_superpoints_r1['matches'] != test_realdata2_superpoints_r1['matches']))\n",
    "print('R2: new_SuperPoints vs SuperPoints difference:',np.sum(new_test_realdata2_superpoints_r2['matches'] != test_realdata2_superpoints_r2['matches']))\n",
    "print('R3: new_SuperPoints vs SuperPoints difference:',np.sum(new_test_realdata2_superpoints_r3['matches'] != test_realdata2_superpoints_r3['matches']))"
   ]
  },
  {
   "cell_type": "code",
   "execution_count": 38,
   "id": "92617f59",
   "metadata": {
    "ExecuteTime": {
     "end_time": "2021-07-21T09:22:40.926297Z",
     "start_time": "2021-07-21T09:22:40.915297Z"
    },
    "scrolled": false
   },
   "outputs": [
    {
     "data": {
      "text/plain": [
       "array([  4,  -1,  -1,   6,  -1,  -1,  -1,  -1,  -1,  -1,  -1,  -1,  -1,\n",
       "        -1,  -1,  -1,   8,  12,  11,  -1,  -1,  -1,  -1,  -1,  -1,  13,\n",
       "        -1,  -1,  -1,  -1,  -1,  27,  -1,  -1,  -1,  -1,  -1,  -1,  -1,\n",
       "        -1,  -1,  -1,  -1,  -1,  25,  24,  -1,  -1,  -1,  41,  -1,  -1,\n",
       "        -1,  -1,  -1,  -1,  -1,  -1,  -1,  -1,  -1,  -1,  -1,  -1,  -1,\n",
       "        -1,  -1,  -1,  -1,  -1,  -1,  26,  -1,  -1,  -1,  -1,  38,  60,\n",
       "        45,  -1,  -1,  -1,  -1,  -1,  -1,  -1,  -1,  -1,  -1,  -1,  -1,\n",
       "        -1,  -1,  44,  -1,  -1,  59,  54,  -1,  62,  -1,  -1,  -1,  -1,\n",
       "        -1,  -1,  -1,  -1,  -1,  -1,  -1,  -1,  57,  65,  -1,  -1,  -1,\n",
       "        -1,  -1,  -1,  -1,  68,  -1,  -1,  -1,  -1,  -1,  -1,  -1,  -1,\n",
       "        74,  -1,  -1,  78,  72,  75,  -1,  -1,  -1,  -1,  -1,  -1,  -1,\n",
       "        80,  -1,  -1,  -1,  -1,  -1,  -1,  -1,  -1,  -1,  -1,  -1,  -1,\n",
       "        89,  92,  -1,  -1,  -1,  -1,  -1,  -1, 106, 103,  -1, 102,  -1,\n",
       "        -1,  -1,  -1,  -1,  -1,  -1,  -1,  -1,  -1,  -1,  -1,  -1,  -1,\n",
       "        -1,  -1,  -1,  -1,  -1,  -1,  -1,  -1, 126,  -1,  -1,  -1,  -1,\n",
       "        -1, 109,  -1,  -1, 131, 135,  -1,  -1,  -1,  -1,  -1,  -1,  -1,\n",
       "        -1, 125,  -1, 129,  -1,  -1, 134,  -1,  -1,  -1,  -1,  -1, 128,\n",
       "        -1,  -1,  -1,  -1,  -1,  -1,  -1,  -1,  -1,  -1,  -1,  -1,  -1,\n",
       "        -1, 151,  -1,  -1,  -1,  -1,  -1, 152,  -1,  -1,  -1, 122, 150,\n",
       "       157, 159,  -1, 153,  -1,  -1,  -1, 162,  -1,  -1, 144,  -1, 142,\n",
       "        -1,  -1,  -1,  -1,  -1, 188, 189,  -1,  -1,  -1,  -1, 156, 187,\n",
       "        -1,  -1,  -1,  -1, 183, 184,  -1, 172,  -1,  -1,  -1,  -1,  -1,\n",
       "        -1,  -1,  -1,  -1,  -1,  -1,  -1,  -1,  -1,  -1,  -1, 219,  -1,\n",
       "        -1, 218,  -1, 212, 213,  -1,  -1,  -1, 161, 220, 250,  -1,  -1,\n",
       "        -1,  -1,  -1,  -1,  -1,  -1, 165, 238,  -1,  -1,  -1, 269,  -1,\n",
       "        -1,  -1,  -1, 249, 268,  -1,  -1,  -1,  -1,  -1,  -1, 211, 298,\n",
       "        -1,  -1,  -1, 254, 282,  -1,  -1, 209,  -1,  -1,  -1,  -1,  -1,\n",
       "        -1,  -1,  -1, 224,  -1, 307, 324,  -1, 267,  -1, 285, 291, 296,\n",
       "       323,  -1,  -1, 321,  -1,  -1,  -1,  -1, 242,  -1,  -1,  -1,  -1,\n",
       "        -1,  -1,  -1,  -1,  -1,  -1, 320, 343,  -1,  -1, 333,  -1, 261,\n",
       "       281, 319,  -1,  -1,  -1, 266,  -1, 247,  -1,  -1,  -1,  -1,  -1,\n",
       "        -1, 318,  -1,  -1, 302,  -1,  -1, 346,  -1, 354, 356,  -1, 290,\n",
       "        -1,  -1,  -1,  -1, 308, 398,  -1,  -1,  -1, 309, 370,  -1,  -1,\n",
       "        -1, 364,  -1, 313,  -1,  -1,  -1,  -1,  -1, 373,  -1,  -1,  -1,\n",
       "       316,  -1,  -1, 342,  -1, 360,  -1,  -1,  -1, 382,  -1,  -1,  -1,\n",
       "        -1, 420, 396,  -1, 406,  -1,  -1, 431,  -1, 402,  -1, 388,  -1,\n",
       "       411, 452, 393,  -1,  -1], dtype=int64)"
      ]
     },
     "execution_count": 38,
     "metadata": {},
     "output_type": "execute_result"
    }
   ],
   "source": [
    "test_realdata_images_r1['matches']"
   ]
  },
  {
   "cell_type": "code",
   "execution_count": 39,
   "id": "84a3b07d",
   "metadata": {
    "ExecuteTime": {
     "end_time": "2021-07-21T09:22:40.941294Z",
     "start_time": "2021-07-21T09:22:40.928297Z"
    }
   },
   "outputs": [
    {
     "data": {
      "text/plain": [
       "array([  4,  -1,  -1,  -1,  -1,  -1,  -1,  -1,  -1,  -1,  -1,  -1,  -1,\n",
       "        -1,  -1,  -1,   7,  11,  10,  -1,  -1,  -1,  -1,  -1,  -1,  12,\n",
       "        -1,  -1,  -1,  -1,  -1,  -1,  -1,  -1,  -1,  -1,  19,  -1,  -1,\n",
       "        -1,  -1,  -1,  -1,  25,  24,  -1,  -1,  -1,  40,  -1,  -1,  -1,\n",
       "        -1,  -1,  -1,  30,  -1,  -1,  -1,  -1,  -1,  -1,  -1,  -1,  -1,\n",
       "        -1,  -1,  26,  -1,  -1,  -1,  -1,  -1,  -1,  37,  58,  44,  -1,\n",
       "        -1,  50,  -1,  -1,  -1,  -1,  -1,  -1,  -1,  -1,  -1,  -1,  -1,\n",
       "        -1,  -1,  43,  -1,  -1,  57,  52,  -1,  59,  -1,  -1,  -1,  -1,\n",
       "        -1,  -1,  -1,  -1,  -1,  -1,  -1,  -1,  -1,  61,  -1,  -1,  -1,\n",
       "        -1,  -1,  -1,  -1,  -1,  65,  -1,  -1,  -1,  -1,  -1,  -1,  -1,\n",
       "        -1,  72,  -1,  -1,  75,  70,  -1,  -1,  -1,  -1,  81,  -1,  -1,\n",
       "        -1,  -1,  83,  -1,  -1,  -1,  -1,  -1,  -1,  77,  -1,  -1,  -1,\n",
       "        -1,  -1,  91,  89,  -1,  -1,  -1,  -1,  -1, 105, 101,  -1, 100,\n",
       "        -1,  -1,  -1,  -1,  -1,  -1,  -1,  -1,  -1,  -1,  -1,  -1,  -1,\n",
       "        -1,  -1,  -1,  -1,  -1,  -1,  -1,  -1,  -1,  -1, 123,  -1,  -1,\n",
       "        -1,  -1, 104,  -1, 128, 132,  -1,  -1,  -1,  -1,  -1,  -1,  -1,\n",
       "        -1, 127,  -1,  -1,  -1,  -1, 131,  -1,  -1,  -1,  -1,  -1, 126,\n",
       "        -1,  -1,  -1,  -1,  -1,  -1,  -1,  -1,  -1,  -1,  -1, 124,  -1,\n",
       "        -1, 149,  -1,  -1,  -1,  -1,  -1,  -1, 120, 150,  -1,  -1,  -1,\n",
       "        -1, 148, 155, 157,  -1, 151,  -1,  -1,  -1, 160,  -1,  -1,  -1,\n",
       "       140, 159,  -1, 142,  -1,  -1,  -1,  -1, 186, 187,  -1,  -1,  -1,\n",
       "        -1,  -1, 154, 185,  -1,  -1,  -1, 181, 182,  -1, 169,  -1,  -1,\n",
       "        -1,  -1,  -1,  -1,  -1,  -1,  -1,  -1,  -1,  -1,  -1,  -1,  -1,\n",
       "        -1, 217,  -1,  -1, 216,  -1, 171,  -1, 214,  -1,  -1, 158, 219,\n",
       "       248,  -1,  -1,  -1,  -1, 209,  -1,  -1,  -1,  -1, 163, 237,  -1,\n",
       "        -1,  -1, 269,  -1,  -1,  -1,  -1, 247, 268,  -1,  -1,  -1,  -1,\n",
       "        -1, 241,  -1, 208, 298,  -1,  -1,  -1, 252,  -1, 282,  -1, 206,\n",
       "        -1,  -1,  -1,  -1,  -1,  -1, 196,  -1, 223,  -1,  -1, 307, 325,\n",
       "       267,  -1, 285, 290, 296, 324,  -1, 242, 322,  -1,  -1,  -1,  -1,\n",
       "       243,  -1,  -1,  -1,  -1,  -1,  -1,  -1,  -1,  -1,  -1, 321, 333,\n",
       "       343,  -1,  -1, 341,  -1, 261, 281, 319,  -1,  -1,  -1, 266, 347,\n",
       "        -1, 260,  -1,  -1,  -1,  -1,  -1, 374, 318,  -1,  -1, 302,  -1,\n",
       "        -1, 346,  -1, 354,  -1,  -1, 289,  -1,  -1,  -1,  -1, 308,  -1,\n",
       "        -1,  -1, 309, 365,  -1,  -1,  -1,  -1, 362, 399, 313,  -1,  -1,\n",
       "        -1,  -1,  -1, 373,  -1,  -1,  -1, 316,  -1,  -1, 342, 360,  -1,\n",
       "        -1,  -1,  -1, 382,  -1,  -1,  -1,  -1, 422, 397,  -1, 407,  -1,\n",
       "        -1, 433,  -1, 403,  -1, 388,  -1, 412, 438, 394,  -1,  -1],\n",
       "      dtype=int64)"
      ]
     },
     "execution_count": 39,
     "metadata": {},
     "output_type": "execute_result"
    }
   ],
   "source": [
    "test_realdata_superpoints_r1['matches']"
   ]
  },
  {
   "cell_type": "code",
   "execution_count": 40,
   "id": "25131cfb",
   "metadata": {
    "ExecuteTime": {
     "end_time": "2021-07-21T09:22:40.973297Z",
     "start_time": "2021-07-21T09:22:40.943296Z"
    }
   },
   "outputs": [],
   "source": [
    "test_realdata_images_new = np.load('rank_output/rank_output_realdata_for_visual/900_0_matches.npz')\n",
    "test_realdata_superpoints_new_code = np.load('rank_output/rank_output_test_realdata_superpoints_new_code/900_0_matches.npz')"
   ]
  },
  {
   "cell_type": "code",
   "execution_count": 41,
   "id": "4f2ecb02",
   "metadata": {
    "ExecuteTime": {
     "end_time": "2021-07-21T09:22:40.989295Z",
     "start_time": "2021-07-21T09:22:40.976298Z"
    }
   },
   "outputs": [
    {
     "data": {
      "text/plain": [
       "['keypoints0', 'keypoints1', 'matches', 'match_confidence']"
      ]
     },
     "execution_count": 41,
     "metadata": {},
     "output_type": "execute_result"
    }
   ],
   "source": [
    "test_realdata_images_new.files"
   ]
  },
  {
   "cell_type": "code",
   "execution_count": 42,
   "id": "37acea20",
   "metadata": {
    "ExecuteTime": {
     "end_time": "2021-07-21T09:22:41.005296Z",
     "start_time": "2021-07-21T09:22:40.991295Z"
    }
   },
   "outputs": [
    {
     "data": {
      "text/plain": [
       "(473, 2)"
      ]
     },
     "execution_count": 42,
     "metadata": {},
     "output_type": "execute_result"
    }
   ],
   "source": [
    "test_realdata_images_new['keypoints0'].shape"
   ]
  },
  {
   "cell_type": "code",
   "execution_count": 43,
   "id": "6417ab7c",
   "metadata": {
    "ExecuteTime": {
     "end_time": "2021-07-21T09:22:41.021297Z",
     "start_time": "2021-07-21T09:22:41.007296Z"
    }
   },
   "outputs": [
    {
     "data": {
      "text/plain": [
       "(473, 2)"
      ]
     },
     "execution_count": 43,
     "metadata": {},
     "output_type": "execute_result"
    }
   ],
   "source": [
    "test_realdata_superpoints_new_code['keypoints0'].shape"
   ]
  },
  {
   "cell_type": "code",
   "execution_count": 44,
   "id": "5709ab9f",
   "metadata": {
    "ExecuteTime": {
     "end_time": "2021-07-21T09:22:41.037296Z",
     "start_time": "2021-07-21T09:22:41.025297Z"
    }
   },
   "outputs": [
    {
     "data": {
      "text/plain": [
       "0"
      ]
     },
     "execution_count": 44,
     "metadata": {},
     "output_type": "execute_result"
    }
   ],
   "source": [
    "np.sum(test_realdata_images_new['keypoints0'] != test_realdata_superpoints_new_code['keypoints0'])"
   ]
  },
  {
   "cell_type": "code",
   "execution_count": 45,
   "id": "331b4771",
   "metadata": {
    "ExecuteTime": {
     "end_time": "2021-07-21T09:22:41.052295Z",
     "start_time": "2021-07-21T09:22:41.040297Z"
    }
   },
   "outputs": [
    {
     "data": {
      "text/plain": [
       "0"
      ]
     },
     "execution_count": 45,
     "metadata": {},
     "output_type": "execute_result"
    }
   ],
   "source": [
    "np.sum(test_realdata_images_new['keypoints1'] != test_realdata_superpoints_new_code['keypoints1'])"
   ]
  },
  {
   "cell_type": "code",
   "execution_count": 46,
   "id": "776d5525",
   "metadata": {
    "ExecuteTime": {
     "end_time": "2021-07-21T09:22:41.068295Z",
     "start_time": "2021-07-21T09:22:41.054297Z"
    }
   },
   "outputs": [
    {
     "data": {
      "text/plain": [
       "0"
      ]
     },
     "execution_count": 46,
     "metadata": {},
     "output_type": "execute_result"
    }
   ],
   "source": [
    "np.sum(test_realdata_images_new['matches'] != test_realdata_superpoints_new_code['matches'])"
   ]
  },
  {
   "cell_type": "code",
   "execution_count": 47,
   "id": "688688cb",
   "metadata": {
    "ExecuteTime": {
     "end_time": "2021-07-21T09:22:41.083295Z",
     "start_time": "2021-07-21T09:22:41.070296Z"
    }
   },
   "outputs": [
    {
     "data": {
      "text/plain": [
       "120"
      ]
     },
     "execution_count": 47,
     "metadata": {},
     "output_type": "execute_result"
    }
   ],
   "source": [
    "np.sum(test_realdata_images_new['match_confidence'] != test_realdata_superpoints_new_code['match_confidence'])"
   ]
  },
  {
   "cell_type": "code",
   "execution_count": 56,
   "id": "0e6fd562",
   "metadata": {
    "ExecuteTime": {
     "end_time": "2021-07-21T09:23:10.251065Z",
     "start_time": "2021-07-21T09:23:10.244095Z"
    }
   },
   "outputs": [
    {
     "data": {
      "text/plain": [
       "array([0.        , 0.02859623, 0.        , 0.        , 0.21447068,\n",
       "       0.        , 0.        , 0.        , 0.        , 0.        ,\n",
       "       0.0929807 , 0.        , 0.        , 0.        , 0.07175788,\n",
       "       0.        , 0.        , 0.        , 0.        , 0.08293964,\n",
       "       0.        , 0.        , 0.25893846, 0.        , 0.        ,\n",
       "       0.        , 0.        , 0.        , 0.        , 0.        ,\n",
       "       0.        , 0.        , 0.        , 0.23003113, 0.07671124,\n",
       "       0.        , 0.        , 0.        , 0.        , 0.14450963,\n",
       "       0.        , 0.        , 0.        , 0.15228118, 0.        ,\n",
       "       0.        , 0.51550406, 0.        , 0.        , 0.        ,\n",
       "       0.14439294, 0.        , 0.        , 0.        , 0.        ,\n",
       "       0.        , 0.07407591, 0.        , 0.        , 0.06321839,\n",
       "       0.1779422 , 0.        , 0.29777697, 0.        , 0.23977214,\n",
       "       0.        , 0.11099059, 0.35815427, 0.        , 0.        ,\n",
       "       0.        , 0.        , 0.4072664 , 0.        , 0.371023  ,\n",
       "       0.08049496, 0.        , 0.        , 0.        , 0.        ,\n",
       "       0.        , 0.        , 0.        , 0.23211229, 0.        ,\n",
       "       0.        , 0.38200366, 0.        , 0.        , 0.38870248,\n",
       "       0.        , 0.        , 0.        , 0.        , 0.5570575 ,\n",
       "       0.39067122, 0.        , 0.        , 0.        , 0.        ],\n",
       "      dtype=float32)"
      ]
     },
     "execution_count": 56,
     "metadata": {},
     "output_type": "execute_result"
    }
   ],
   "source": [
    "test_realdata_images_new['match_confidence'][:100]"
   ]
  },
  {
   "cell_type": "code",
   "execution_count": 57,
   "id": "29552f18",
   "metadata": {
    "ExecuteTime": {
     "end_time": "2021-07-21T09:23:22.982457Z",
     "start_time": "2021-07-21T09:23:22.967420Z"
    }
   },
   "outputs": [
    {
     "data": {
      "text/plain": [
       "array([0.        , 0.02859606, 0.        , 0.        , 0.21446905,\n",
       "       0.        , 0.        , 0.        , 0.        , 0.        ,\n",
       "       0.09297981, 0.        , 0.        , 0.        , 0.07175733,\n",
       "       0.        , 0.        , 0.        , 0.        , 0.08293932,\n",
       "       0.        , 0.        , 0.25893822, 0.        , 0.        ,\n",
       "       0.        , 0.        , 0.        , 0.        , 0.        ,\n",
       "       0.        , 0.        , 0.        , 0.23003092, 0.07671095,\n",
       "       0.        , 0.        , 0.        , 0.        , 0.14451018,\n",
       "       0.        , 0.        , 0.        , 0.15228218, 0.        ,\n",
       "       0.        , 0.51552796, 0.        , 0.        , 0.        ,\n",
       "       0.14439335, 0.        , 0.        , 0.        , 0.        ,\n",
       "       0.        , 0.07407683, 0.        , 0.        , 0.06321906,\n",
       "       0.17794545, 0.        , 0.29779088, 0.        , 0.23977008,\n",
       "       0.        , 0.11099164, 0.35819864, 0.        , 0.        ,\n",
       "       0.        , 0.        , 0.40732348, 0.        , 0.3710212 ,\n",
       "       0.0804971 , 0.        , 0.        , 0.        , 0.        ,\n",
       "       0.        , 0.        , 0.        , 0.2321158 , 0.        ,\n",
       "       0.        , 0.3821228 , 0.        , 0.        , 0.38877258,\n",
       "       0.        , 0.        , 0.        , 0.        , 0.5571441 ,\n",
       "       0.3907519 , 0.        , 0.        , 0.        , 0.        ],\n",
       "      dtype=float32)"
      ]
     },
     "execution_count": 57,
     "metadata": {},
     "output_type": "execute_result"
    }
   ],
   "source": [
    "test_realdata_superpoints_new_code['match_confidence'][:100]"
   ]
  },
  {
   "cell_type": "markdown",
   "id": "f0d2b036",
   "metadata": {},
   "source": [
    "# Examine API results"
   ]
  },
  {
   "cell_type": "code",
   "execution_count": 9,
   "id": "8fb8f7e0",
   "metadata": {
    "ExecuteTime": {
     "end_time": "2021-07-21T15:26:48.688644Z",
     "start_time": "2021-07-21T15:26:48.666643Z"
    }
   },
   "outputs": [],
   "source": [
    "# query here is 60.png\n",
    "api_result_query_60 = np.load('api_output/query_60_matches.npz')"
   ]
  },
  {
   "cell_type": "code",
   "execution_count": 10,
   "id": "25f40e1a",
   "metadata": {
    "ExecuteTime": {
     "end_time": "2021-07-21T15:26:49.031382Z",
     "start_time": "2021-07-21T15:26:49.012356Z"
    }
   },
   "outputs": [
    {
     "data": {
      "text/plain": [
       "['keypoints0', 'keypoints1', 'matches', 'match_confidence']"
      ]
     },
     "execution_count": 10,
     "metadata": {},
     "output_type": "execute_result"
    }
   ],
   "source": [
    "api_result_query_60.files"
   ]
  },
  {
   "cell_type": "code",
   "execution_count": 11,
   "id": "6c033f6f",
   "metadata": {
    "ExecuteTime": {
     "end_time": "2021-07-21T15:26:49.388282Z",
     "start_time": "2021-07-21T15:26:49.378281Z"
    }
   },
   "outputs": [
    {
     "data": {
      "text/plain": [
       "(460, 2)"
      ]
     },
     "execution_count": 11,
     "metadata": {},
     "output_type": "execute_result"
    }
   ],
   "source": [
    "api_result_query_60['keypoints0'].shape"
   ]
  },
  {
   "cell_type": "code",
   "execution_count": 12,
   "id": "8a9be9f5",
   "metadata": {
    "ExecuteTime": {
     "end_time": "2021-07-21T15:26:49.918055Z",
     "start_time": "2021-07-21T15:26:49.908084Z"
    }
   },
   "outputs": [
    {
     "data": {
      "text/plain": [
       "(460, 2)"
      ]
     },
     "execution_count": 12,
     "metadata": {},
     "output_type": "execute_result"
    }
   ],
   "source": [
    "api_result_query_60['keypoints1'].shape"
   ]
  },
  {
   "cell_type": "code",
   "execution_count": 13,
   "id": "f425737e",
   "metadata": {
    "ExecuteTime": {
     "end_time": "2021-07-21T15:26:52.645800Z",
     "start_time": "2021-07-21T15:26:52.628767Z"
    }
   },
   "outputs": [],
   "source": [
    "# query here is 60.png\n",
    "api_result_query_0 = np.load('api_output/query_0_matches.npz')"
   ]
  },
  {
   "cell_type": "code",
   "execution_count": 14,
   "id": "5b24f4bb",
   "metadata": {
    "ExecuteTime": {
     "end_time": "2021-07-21T15:26:52.908066Z",
     "start_time": "2021-07-21T15:26:52.889032Z"
    }
   },
   "outputs": [
    {
     "data": {
      "text/plain": [
       "(460, 2)"
      ]
     },
     "execution_count": 14,
     "metadata": {},
     "output_type": "execute_result"
    }
   ],
   "source": [
    "api_result_query_0['keypoints0'].shape"
   ]
  },
  {
   "cell_type": "code",
   "execution_count": 15,
   "id": "890d9762",
   "metadata": {
    "ExecuteTime": {
     "end_time": "2021-07-21T15:26:53.495877Z",
     "start_time": "2021-07-21T15:26:53.479843Z"
    }
   },
   "outputs": [
    {
     "data": {
      "text/plain": [
       "(649, 2)"
      ]
     },
     "execution_count": 15,
     "metadata": {},
     "output_type": "execute_result"
    }
   ],
   "source": [
    "api_result_query_0['keypoints1'].shape"
   ]
  }
 ],
 "metadata": {
  "kernelspec": {
   "display_name": "fastai-torch",
   "language": "python",
   "name": "fastai-torch"
  },
  "language_info": {
   "codemirror_mode": {
    "name": "ipython",
    "version": 3
   },
   "file_extension": ".py",
   "mimetype": "text/x-python",
   "name": "python",
   "nbconvert_exporter": "python",
   "pygments_lexer": "ipython3",
   "version": "3.9.4"
  }
 },
 "nbformat": 4,
 "nbformat_minor": 5
}
